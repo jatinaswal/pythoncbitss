{
  "nbformat": 4,
  "nbformat_minor": 0,
  "metadata": {
    "colab": {
      "provenance": [],
      "authorship_tag": "ABX9TyPeuk39CgGN9fkLBS6r3o/9",
      "include_colab_link": true
    },
    "kernelspec": {
      "name": "python3",
      "display_name": "Python 3"
    },
    "language_info": {
      "name": "python"
    }
  },
  "cells": [
    {
      "cell_type": "markdown",
      "metadata": {
        "id": "view-in-github",
        "colab_type": "text"
      },
      "source": [
        "<a href=\"https://colab.research.google.com/github/jatinaswal/pythoncbitss/blob/main/1stprogram_py.ipynb\" target=\"_parent\"><img src=\"https://colab.research.google.com/assets/colab-badge.svg\" alt=\"Open In Colab\"/></a>"
      ]
    },
    {
      "cell_type": "code",
      "execution_count": null,
      "metadata": {
        "colab": {
          "base_uri": "https://localhost:8080/"
        },
        "id": "VJT6x2SCwxzI",
        "outputId": "e6fe6788-de4f-454b-b994-f834bbd99ba9"
      },
      "outputs": [
        {
          "output_type": "stream",
          "name": "stdout",
          "text": [
            "hello world !\n",
            "hii i am jatin aswal.. i am learning python.. i have already learned excel..\n"
          ]
        }
      ],
      "source": [
        "#this is single line comment\n",
        "'''this is multiline comment.\n",
        "hii ! i am jatin aswal and\n",
        "i am 21 years old.\n",
        "my hobbies are listening music and scrolling reels..'''\n",
        "\n",
        "print(\"hello world !\")\n",
        "print(\"hii i am jatin aswal.. i am learning python.. i have already learned excel..\")"
      ]
    },
    {
      "cell_type": "code",
      "source": [],
      "metadata": {
        "id": "16N2xUO463Si"
      },
      "execution_count": null,
      "outputs": []
    },
    {
      "cell_type": "code",
      "source": [
        "print(\"my name is jatin aswal\")\n",
        "print(\"i am 21 years old\")"
      ],
      "metadata": {
        "colab": {
          "base_uri": "https://localhost:8080/"
        },
        "id": "BUk9uedd5GZi",
        "outputId": "5a63ae8d-9535-42f1-9331-b769a0420217"
      },
      "execution_count": null,
      "outputs": [
        {
          "output_type": "stream",
          "name": "stdout",
          "text": [
            "my name is jatin aswal\n",
            "i am 21 years old\n"
          ]
        }
      ]
    },
    {
      "cell_type": "code",
      "source": [
        "name = input(\"name :\")\n",
        "age = int(input(\"age:\"))\n",
        "print(name)\n",
        "print(age)"
      ],
      "metadata": {
        "colab": {
          "base_uri": "https://localhost:8080/"
        },
        "id": "m2HO8dMH5VEx",
        "outputId": "e0845f32-3ba0-427c-ce7f-dd5473a3c172"
      },
      "execution_count": null,
      "outputs": [
        {
          "output_type": "stream",
          "name": "stdout",
          "text": [
            "name :jatin\n",
            "age:21\n",
            "jatin\n",
            "21\n"
          ]
        }
      ]
    },
    {
      "cell_type": "code",
      "source": [
        "print(\"         Biodata\")\n",
        "print(\"    \")\n",
        "print(\"   Personal Details\")\n",
        "print(\"    \")\n",
        "print(\"name           :  jatin aswal\")\n",
        "print(\"age            :  21\")\n",
        "print(\"Email          :  jatinaswal552@gmail.com\")\n",
        "print(\"DOB            :  20/Sep/2004\")\n",
        "print(\"Phone no.      :  7814269675\")\n",
        "print(\"Gender         :  Male\")\n",
        "print(\"Relegion       :  Hindu\")\n",
        "print(\"Caste          :  Rajput\")\n",
        "print(\"Blood group    :  O+\")\n",
        "print(\"Marital status :  Unmarried\")\n",
        "print(\"    \")\n",
        "print(\"        Education\")\n",
        "print(\"    \")\n",
        "\n",
        "\n",
        "print(\"Elemntary       : S.M.D convent sen.sec.school (Ludhiana)\")\n",
        "print(\"High School     : Panjab Agriculture University (Ludhiana)\")\n",
        "print(\"Education       : Graduation(BCA) from Panjab University (Channdigarh)\")\n",
        "print(\"languages known : English,Hindi\")\n",
        "print(\"    \")\n",
        "print(\"        Work Experience\")\n",
        "print(\"    \")\n",
        "print(\"Company Name :    Jupitice\")\n",
        "print(\"Desigination :    TL\")\n",
        "print(\"Salary       :    12LPA\")\n",
        "\n"
      ],
      "metadata": {
        "id": "lbl4NMZ55Tnn",
        "colab": {
          "base_uri": "https://localhost:8080/"
        },
        "outputId": "04d41c94-666f-4ac0-9814-6ddab0386975"
      },
      "execution_count": null,
      "outputs": [
        {
          "output_type": "stream",
          "name": "stdout",
          "text": [
            "         Biodata\n",
            "    \n",
            "   Personal Details\n",
            "    \n",
            "name           :  jatin aswal\n",
            "age            :  21\n",
            "Email          :  jatinaswal552@gmail.com\n",
            "DOB            :  20/Sep/2004\n",
            "Phone no.      :  7814269675\n",
            "Gender         :  Male\n",
            "Relegion       :  Hindu\n",
            "Caste          :  Rajput\n",
            "Blood group    :  O+\n",
            "Marital status :  Unmarried\n",
            "    \n",
            "        Education\n",
            "    \n",
            "Elemntary       : S.M.D convent sen.sec.school (Ludhiana)\n",
            "High School     : Panjab Agriculture University (Ludhiana)\n",
            "Education       : Graduation(BCA) from Panjab University (Channdigarh)\n",
            "languages known : English,Hindi\n",
            "    \n",
            "        Work Experience\n",
            "    \n",
            "Company Name :    Jupitice\n",
            "Desigination :    TL\n",
            "Salary       :    12LPA\n"
          ]
        }
      ]
    }
  ]
}