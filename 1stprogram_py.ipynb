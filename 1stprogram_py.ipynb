{
  "nbformat": 4,
  "nbformat_minor": 0,
  "metadata": {
    "colab": {
      "provenance": [],
      "authorship_tag": "ABX9TyOa4EIc6U4tMenZygwzJEzg",
      "include_colab_link": true
    },
    "kernelspec": {
      "name": "python3",
      "display_name": "Python 3"
    },
    "language_info": {
      "name": "python"
    }
  },
  "cells": [
    {
      "cell_type": "markdown",
      "metadata": {
        "id": "view-in-github",
        "colab_type": "text"
      },
      "source": [
        "<a href=\"https://colab.research.google.com/github/jatinaswal/pythoncbitss/blob/main/1stprogram_py.ipynb\" target=\"_parent\"><img src=\"https://colab.research.google.com/assets/colab-badge.svg\" alt=\"Open In Colab\"/></a>"
      ]
    },
    {
      "cell_type": "code",
      "execution_count": 4,
      "metadata": {
        "colab": {
          "base_uri": "https://localhost:8080/"
        },
        "id": "VJT6x2SCwxzI",
        "outputId": "61456ac9-9982-47a8-eb8b-283318f430e8"
      },
      "outputs": [
        {
          "output_type": "stream",
          "name": "stdout",
          "text": [
            "hello world !\n",
            "hii i am jatin aswal.. i am learning python.. i have already learned excel..\n"
          ]
        }
      ],
      "source": [
        "#this is single line comment\n",
        "\"\"\"this is multiline comment.\n",
        "hii ! i am jatin aswal and\n",
        "i am 21 years old.\n",
        "my hobbies are listening music and\n",
        "doing masti...\"\"\"\n",
        "\n",
        "print(\"hello world !\")\n",
        "print(\"hii i am jatin aswal.. i am learning python.. i have already learned excel..\")"
      ]
    }
  ]
}