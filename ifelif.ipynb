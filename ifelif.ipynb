{
  "nbformat": 4,
  "nbformat_minor": 0,
  "metadata": {
    "colab": {
      "provenance": [],
      "authorship_tag": "ABX9TyPJXOrdtsA3czpjjxhLxnei",
      "include_colab_link": true
    },
    "kernelspec": {
      "name": "python3",
      "display_name": "Python 3"
    },
    "language_info": {
      "name": "python"
    }
  },
  "cells": [
    {
      "cell_type": "markdown",
      "metadata": {
        "id": "view-in-github",
        "colab_type": "text"
      },
      "source": [
        "<a href=\"https://colab.research.google.com/github/jatinaswal/pythoncbitss/blob/main/ifelif.ipynb\" target=\"_parent\"><img src=\"https://colab.research.google.com/assets/colab-badge.svg\" alt=\"Open In Colab\"/></a>"
      ]
    },
    {
      "cell_type": "code",
      "execution_count": null,
      "metadata": {
        "colab": {
          "base_uri": "https://localhost:8080/"
        },
        "id": "gpr7x_kNTOr8",
        "outputId": "b16e9403-e805-43fc-de23-041aa70555c7"
      },
      "outputs": [
        {
          "output_type": "stream",
          "name": "stdout",
          "text": [
            " enter the days(1-7)3\n",
            "wednesday\n"
          ]
        }
      ],
      "source": [
        "# Write a program that takes the day number (1–7) and prints the day name (1 = Monday, etc.).\n",
        "days = int(input(\" enter the days(1-7) : \"))\n",
        "if days==1:\n",
        "  print(\"monday\")\n",
        "if days==2:\n",
        "  print(\"tuesday\")\n",
        "elif days==3:\n",
        "  print(\"wednesday\")\n",
        "elif days==4:\n",
        "  print(\"tuesday\")\n",
        "elif days==5:\n",
        "  print(\"friday\")\n",
        "elif days==6:\n",
        "  print(\"saturday\")\n",
        "elif days==7:\n",
        "  print(\"sunday\")\n",
        "else:\n",
        " print(\"enter a days 1-7\")\n",
        "\n"
      ]
    },
    {
      "cell_type": "code",
      "source": [
        "# Write a program to simulate an ATM machine:\n",
        "# Enter PIN\n",
        "# If correct → allow withdrawal/check balance\n",
        "# If wrong → show \"Invalid PIN\n",
        "\n",
        "correct_PIN = 1871\n",
        "Balance = 10000\n",
        "\n",
        "Pin = int(input(\"Enter your PIN : \"))\n",
        "if Pin == correct_PIN :\n",
        "  amount = int(input(\"enter amount to withdraw : \"))\n",
        "\n",
        "  if amount<= Balance :\n",
        "    Remaining_Balance = Balance - amount\n",
        "    print(f\"Withdrawal successful! Reamaining Balance : ₹{Remaining_Balance}\")\n",
        "  else :\n",
        "    print(\"Insufficient Balance\")\n",
        "\n",
        "else :\n",
        "  print(\"Incorrect PIN\")\n",
        "\n"
      ],
      "metadata": {
        "id": "GS0levi8c79n",
        "colab": {
          "base_uri": "https://localhost:8080/"
        },
        "outputId": "88a67995-ea76-4c3d-f2ed-c9d436e47e86"
      },
      "execution_count": 16,
      "outputs": [
        {
          "output_type": "stream",
          "name": "stdout",
          "text": [
            "Enter your PIN : 1871\n",
            "enter amount to withdraw : 8000\n",
            "Withdrawal successful! Reamaining Balance : ₹2000\n"
          ]
        }
      ]
    }
  ]
}