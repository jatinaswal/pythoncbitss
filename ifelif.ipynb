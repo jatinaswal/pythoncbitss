{
  "nbformat": 4,
  "nbformat_minor": 0,
  "metadata": {
    "colab": {
      "provenance": [],
      "authorship_tag": "ABX9TyOBgZK/PQ6UkxBHkhY+uFxI",
      "include_colab_link": true
    },
    "kernelspec": {
      "name": "python3",
      "display_name": "Python 3"
    },
    "language_info": {
      "name": "python"
    }
  },
  "cells": [
    {
      "cell_type": "markdown",
      "metadata": {
        "id": "view-in-github",
        "colab_type": "text"
      },
      "source": [
        "<a href=\"https://colab.research.google.com/github/jatinaswal/pythoncbitss/blob/main/ifelif.ipynb\" target=\"_parent\"><img src=\"https://colab.research.google.com/assets/colab-badge.svg\" alt=\"Open In Colab\"/></a>"
      ]
    },
    {
      "cell_type": "code",
      "execution_count": 18,
      "metadata": {
        "colab": {
          "base_uri": "https://localhost:8080/"
        },
        "id": "gpr7x_kNTOr8",
        "outputId": "6f3266c8-efe1-44e6-ed61-d557c8a04005"
      },
      "outputs": [
        {
          "output_type": "stream",
          "name": "stdout",
          "text": [
            "enter the days(1-7) : 5\n",
            "friday\n"
          ]
        }
      ],
      "source": [
        "# Write a program that takes the day number (1–7) and prints the day name (1 = Monday, etc.).\n",
        "days = int(input(\"enter the days(1-7) : \"))\n",
        "if days==1:\n",
        "  print(\"monday\")\n",
        "if days==2:\n",
        "  print(\"tuesday\")\n",
        "elif days==3:\n",
        "  print(\"wednesday\")\n",
        "elif days==4:\n",
        "  print(\"tuesday\")\n",
        "elif days==5:\n",
        "  print(\"friday\")\n",
        "elif days==6:\n",
        "  print(\"saturday\")\n",
        "elif days==7:\n",
        "  print(\"sunday\")\n",
        "else:\n",
        " print(\"enter a days 1-7\")\n",
        "\n"
      ]
    },
    {
      "cell_type": "code",
      "source": [
        "# Write a program to simulate an ATM machine:\n",
        "# Enter PIN\n",
        "# If correct → allow withdrawal/check balance\n",
        "# If wrong → show \"Invalid PIN\n",
        "\n",
        "correct_PIN = 1871\n",
        "Balance = 10000\n",
        "\n",
        "Pin = int(input(\"Enter your PIN : \"))\n",
        "if Pin == correct_PIN :\n",
        "  amount = int(input(\"enter amount to withdraw : \"))\n",
        "\n",
        "  if amount<= Balance :\n",
        "    Remaining_Balance = Balance - amount\n",
        "    print(f\"Withdrawal successful! Reamaining Balance : ₹{Remaining_Balance}\")\n",
        "  else :\n",
        "    print(\"Insufficient Balance\")\n",
        "\n",
        "else :\n",
        "  print(\"Incorrect PIN\")"
      ],
      "metadata": {
        "colab": {
          "base_uri": "https://localhost:8080/"
        },
        "id": "pc_Y5GRjwPyt",
        "outputId": "9e7ff130-eef8-4157-ebf1-c56722c4cab0"
      },
      "execution_count": 22,
      "outputs": [
        {
          "output_type": "stream",
          "name": "stdout",
          "text": [
            "Enter your PIN : 1871\n",
            "enter amount to withdraw : 9000\n",
            "Withdrawal successful! Reamaining Balance : ₹1000\n"
          ]
        }
      ]
    },
    {
      "cell_type": "code",
      "source": [
        "# Write a program to simulate an ATM machine:\n",
        "# Enter PIN\n",
        "# If correct → allow withdrawal/check balance\n",
        "# If wrong → show \"Invalid PIN\n",
        "\n",
        "correct_PIN = 1871\n",
        "Balance = 10000\n",
        "\n",
        "Pin = int(input(\"Enter your PIN : \"))\n",
        "\n",
        "if Pin == correct_PIN :\n",
        "  print(\"1.Check Balance\")\n",
        "  print(\"2.Withdraw Money\")\n",
        "\n",
        "  choice = int(input(\"Enter your choice : \"))\n",
        "\n",
        "  if choice == 1 :\n",
        "     print(f\"Balance : ₹{Balance}\")\n",
        "  elif choice == 2 :\n",
        "     amount = int(input(\"enter amount to withdraw : \"))\n",
        "\n",
        "     if amount<= Balance :\n",
        "        Remaining_Balance = Balance - amount\n",
        "        print(f\"Withdrawal successful! Reamaining Balance : ₹{Remaining_Balance}\")\n",
        "     else :\n",
        "        print(\"Insufficient Balance\")\n",
        "\n",
        "  else :\n",
        "    print(\"Invalid Choice\")\n",
        "else :\n",
        "  print(\"Incorrect PIN\")\n"
      ],
      "metadata": {
        "colab": {
          "base_uri": "https://localhost:8080/"
        },
        "id": "RHTL74E00Sks",
        "outputId": "d1417455-4e55-47a5-a132-0e6c51c3ae29"
      },
      "execution_count": 29,
      "outputs": [
        {
          "output_type": "stream",
          "name": "stdout",
          "text": [
            "Enter your PIN : 1871\n",
            "1.Check Balance\n",
            "2.Withdraw Money\n",
            "Enter your choice : 2\n",
            "enter amount to withdraw : 8376\n",
            "Withdrawal successful! Reamaining Balance : ₹1624\n"
          ]
        }
      ]
    }
  ]
}