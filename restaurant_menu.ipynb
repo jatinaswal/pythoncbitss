{
  "nbformat": 4,
  "nbformat_minor": 0,
  "metadata": {
    "colab": {
      "provenance": [],
      "authorship_tag": "ABX9TyOriwj1PaHigTeCAVrAIdVQ",
      "include_colab_link": true
    },
    "kernelspec": {
      "name": "python3",
      "display_name": "Python 3"
    },
    "language_info": {
      "name": "python"
    }
  },
  "cells": [
    {
      "cell_type": "markdown",
      "metadata": {
        "id": "view-in-github",
        "colab_type": "text"
      },
      "source": [
        "<a href=\"https://colab.research.google.com/github/jatinaswal/pythoncbitss/blob/main/restaurant_menu.ipynb\" target=\"_parent\"><img src=\"https://colab.research.google.com/assets/colab-badge.svg\" alt=\"Open In Colab\"/></a>"
      ]
    },
    {
      "cell_type": "code",
      "execution_count": 16,
      "metadata": {
        "colab": {
          "base_uri": "https://localhost:8080/"
        },
        "id": "x7iL_apd4WH2",
        "outputId": "33f52443-ca52-416a-fc09-b115c9069cd2"
      },
      "outputs": [
        {
          "output_type": "stream",
          "name": "stdout",
          "text": [
            "    Pahadi's Restaurant\n",
            "     \n",
            "         Starters\n",
            "     \n",
            "Greek Salad...............5.00\n",
            "Tprtilla Espanalo.........4.50\n",
            "OLIVAS RELLENAS...........6.00\n",
            "LASAGNE...................3.00\n",
            "   \n",
            "          MAINS\n",
            "   \n",
            "BACALO FRITO..............12.00\n",
            "PAELLA MIXTA..............8.50\n",
            "POLLO AL HORNO............8.00\n",
            "LENGUADO..................12.00\n",
            "   \n",
            "          SIDES\n",
            "   \n",
            "FRIES.....................2.00\n",
            "PEPPER POTATOS............7.00\n",
            "GREEN SALAD...............2.00\n",
            "ONION RINGS...............4.00\n",
            "FRIED BEANS...............3.00\n",
            "   \n",
            "         DESSERTS\n",
            "   \n",
            "CHEERY PIE................2.00\n",
            "COOKIE DELIGHT............9.00\n",
            "CHOCHOLATE MUFFIN.........1.50\n",
            "   \n",
            "          DRINKS\n",
            "   \n",
            "SOFT DRINKS...............1.75\n",
            "BEER......................2.00\n",
            "FRESH JUICE...............2.50\n",
            "VERGIN MOJITO.............4.50\n",
            "COFFIE....................4.00\n"
          ]
        }
      ],
      "source": [
        "print(\"    Pahadi's Restaurant\")\n",
        "print(\"     \")\n",
        "print(\"         Starters\")\n",
        "print(\"     \")\n",
        "print(\"Greek Salad...............5.00\")\n",
        "print(\"Tprtilla Espanalo.........4.50\")\n",
        "print(\"OLIVAS RELLENAS...........6.00\")\n",
        "print(\"LASAGNE...................3.00\")\n",
        "print(\"   \")\n",
        "print(\"          MAINS\")\n",
        "print(\"   \")\n",
        "print(\"BACALO FRITO..............12.00\")\n",
        "print(\"PAELLA MIXTA..............8.50\")\n",
        "print(\"POLLO AL HORNO............8.00\")\n",
        "print(\"LENGUADO..................12.00\")\n",
        "print(\"   \")\n",
        "print(\"          SIDES\")\n",
        "print(\"   \")\n",
        "print(\"FRIES.....................2.00\")\n",
        "print(\"PEPPER POTATOS............7.00\")\n",
        "print(\"GREEN SALAD...............2.00\")\n",
        "print(\"ONION RINGS...............4.00\")\n",
        "print(\"FRIED BEANS...............3.00\")\n",
        "print(\"   \")\n",
        "print(\"         DESSERTS\")\n",
        "print(\"   \")\n",
        "print(\"CHEERY PIE................2.00\")\n",
        "print(\"COOKIE DELIGHT............9.00\")\n",
        "print(\"CHOCHOLATE MUFFIN.........1.50\")\n",
        "print(\"   \")\n",
        "print(\"          DRINKS\")\n",
        "print(\"   \")\n",
        "print(\"SOFT DRINKS...............1.75\")\n",
        "print(\"BEER......................2.00\")\n",
        "print(\"FRESH JUICE...............2.50\")\n",
        "print(\"VERGIN MOJITO.............4.50\")\n",
        "print(\"COFFIE....................4.00\")\n",
        "\n"
      ]
    }
  ]
}