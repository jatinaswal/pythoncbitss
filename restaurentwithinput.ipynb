{
  "nbformat": 4,
  "nbformat_minor": 0,
  "metadata": {
    "colab": {
      "provenance": [],
      "authorship_tag": "ABX9TyMF+ZH3pmhUGJiM0mGbDEsP",
      "include_colab_link": true
    },
    "kernelspec": {
      "name": "python3",
      "display_name": "Python 3"
    },
    "language_info": {
      "name": "python"
    }
  },
  "cells": [
    {
      "cell_type": "markdown",
      "metadata": {
        "id": "view-in-github",
        "colab_type": "text"
      },
      "source": [
        "<a href=\"https://colab.research.google.com/github/jatinaswal/pythoncbitss/blob/main/restaurentwithinput.ipynb\" target=\"_parent\"><img src=\"https://colab.research.google.com/assets/colab-badge.svg\" alt=\"Open In Colab\"/></a>"
      ]
    },
    {
      "cell_type": "code",
      "execution_count": null,
      "metadata": {
        "colab": {
          "base_uri": "https://localhost:8080/"
        },
        "id": "nWaWvmKYyKPx",
        "outputId": "8d7e9ff1-39ca-4c3a-a7af-807ed50afdde"
      },
      "outputs": [
        {
          "output_type": "stream",
          "name": "stdout",
          "text": [
            "enter your first number : 10\n",
            "enter your second number : 20\n",
            "total of 10.0 and 20.0 is 2 30.0\n"
          ]
        }
      ],
      "source": [
        "first_num = float(input(\"enter your first number : \"))\n",
        "second_num = float(input(\"enter your second number : \"))\n",
        "total = first_num + second_num\n",
        "print(f\"total of {first_num} and {second_num} is \",total)\n",
        "\n"
      ]
    },
    {
      "cell_type": "code",
      "source": [
        "first_num = float(input(\"enter your first number : \"))\n",
        "second_num = float(input(\"enter your second number : \"))\n",
        "total = first_num * second_num\n",
        "print(total)"
      ],
      "metadata": {
        "colab": {
          "base_uri": "https://localhost:8080/"
        },
        "id": "MLzZJX4vywfE",
        "outputId": "2aa346e5-41a8-4925-8928-0d939bc9db7f"
      },
      "execution_count": null,
      "outputs": [
        {
          "output_type": "stream",
          "name": "stdout",
          "text": [
            "enter your first number : 4\n",
            "enter your second number : 5\n",
            "20.0\n"
          ]
        }
      ]
    },
    {
      "cell_type": "code",
      "source": [
        "first_num = float(input(\"enter your first number : \"))\n",
        "second_num = float(input(\"enter your second number : \"))\n",
        "total = first_num - second_num\n",
        "print(total)"
      ],
      "metadata": {
        "colab": {
          "base_uri": "https://localhost:8080/"
        },
        "id": "uVjmBgVtzJAB",
        "outputId": "9a95e30f-931f-45a5-ffa0-49f8627cad42"
      },
      "execution_count": null,
      "outputs": [
        {
          "output_type": "stream",
          "name": "stdout",
          "text": [
            "enter your first number : 10.1\n",
            "enter your second number : 10\n",
            "0.09999999999999964\n"
          ]
        }
      ]
    },
    {
      "cell_type": "code",
      "source": [
        "first_num = float(input(\"enter your first number : \"))\n",
        "second_num = float(input(\"enter your second number : \"))\n",
        "total = first_num / second_num\n",
        "print(total)"
      ],
      "metadata": {
        "colab": {
          "base_uri": "https://localhost:8080/"
        },
        "id": "Sy2wBqKJzN_0",
        "outputId": "d3d010c0-fe61-407d-fb1e-359d64064ccf"
      },
      "execution_count": null,
      "outputs": [
        {
          "output_type": "stream",
          "name": "stdout",
          "text": [
            "enter your first number : 10\n",
            "enter your second number : 2\n",
            "5.0\n"
          ]
        }
      ]
    },
    {
      "cell_type": "code",
      "source": [
        "print(\"      Pahadi's Restaurent\")\n",
        "print(\"------------------------------\")\n",
        "pizza= int(input(\"price of pizza : \"))\n",
        "burger=int(input(\"price of burger : \"))\n",
        "coke = int(input(\"price of coke : \"))\n",
        "Sandwich=int(input(\"price of Sandwich : \"))\n",
        "coffee=int(input(\"price of coffee :\"))\n",
        "total = pizza + burger + coke + coffee + Sandwich\n",
        "print(\"------------------------------\")\n",
        "print(\"Total price of items is : \",total)\n",
        "print(\"Discount given to customer : \",total/100*10)\n",
        "print(\"total bill after discount : \", total - total/100*10)"
      ],
      "metadata": {
        "colab": {
          "base_uri": "https://localhost:8080/"
        },
        "id": "dZemk23J6rrE",
        "outputId": "615d37e2-e30e-4bac-810f-f27c531c50d4"
      },
      "execution_count": 17,
      "outputs": [
        {
          "output_type": "stream",
          "name": "stdout",
          "text": [
            "      Pahadi's Restaurent\n",
            "------------------------------\n",
            "price of pizza : 150\n",
            "price of burger : 80\n",
            "price of coke : 50\n",
            "price of Sandwich : 70\n",
            "price of coffee :120\n",
            "------------------------------\n",
            "Total price of items is :  470\n",
            "Discount given to customer :  47.0\n",
            "total bill after discount :  423.0\n"
          ]
        }
      ]
    },
    {
      "cell_type": "code",
      "source": [
        "print(\"      Pahadi's Restaurent\")\n",
        "print(\"------------------------------\")\n",
        "pizza= int(input(\"price of pizza : \"))\n",
        "burger=int(input(\"price of burger : \"))\n",
        "coke = int(input(\"price of coke : \"))\n",
        "Sandwich=int(input(\"price of Sandwich : \"))\n",
        "coffee=int(input(\"price of coffee :\"))\n",
        "total = pizza/100*10 + burger/100*10 + coke + coffee + Sandwich\n",
        "print(\"------------------------------\")\n",
        "print(\"Total price of items is : \",total)\n",
        "print(\"Discount given to customer : \",total/100*10)\n",
        "print(\"total bill after discount : \", total - total/100*10)"
      ],
      "metadata": {
        "colab": {
          "base_uri": "https://localhost:8080/",
          "height": 391
        },
        "id": "CUAPNF4Z024-",
        "outputId": "6c5893aa-6cdc-41be-cd28-e22aed3a67c9"
      },
      "execution_count": 18,
      "outputs": [
        {
          "output_type": "stream",
          "name": "stdout",
          "text": [
            "      Pahadi's Restaurent\n",
            "------------------------------\n"
          ]
        },
        {
          "output_type": "error",
          "ename": "KeyboardInterrupt",
          "evalue": "Interrupted by user",
          "traceback": [
            "\u001b[0;31m---------------------------------------------------------------------------\u001b[0m",
            "\u001b[0;31mKeyboardInterrupt\u001b[0m                         Traceback (most recent call last)",
            "\u001b[0;32m/tmp/ipython-input-857871764.py\u001b[0m in \u001b[0;36m<cell line: 0>\u001b[0;34m()\u001b[0m\n\u001b[1;32m      1\u001b[0m \u001b[0mprint\u001b[0m\u001b[0;34m(\u001b[0m\u001b[0;34m\"      Pahadi's Restaurent\"\u001b[0m\u001b[0;34m)\u001b[0m\u001b[0;34m\u001b[0m\u001b[0;34m\u001b[0m\u001b[0m\n\u001b[1;32m      2\u001b[0m \u001b[0mprint\u001b[0m\u001b[0;34m(\u001b[0m\u001b[0;34m\"------------------------------\"\u001b[0m\u001b[0;34m)\u001b[0m\u001b[0;34m\u001b[0m\u001b[0;34m\u001b[0m\u001b[0m\n\u001b[0;32m----> 3\u001b[0;31m \u001b[0mpizza\u001b[0m\u001b[0;34m=\u001b[0m \u001b[0mint\u001b[0m\u001b[0;34m(\u001b[0m\u001b[0minput\u001b[0m\u001b[0;34m(\u001b[0m\u001b[0;34m\"price of pizza : \"\u001b[0m\u001b[0;34m)\u001b[0m\u001b[0;34m)\u001b[0m\u001b[0;34m\u001b[0m\u001b[0;34m\u001b[0m\u001b[0m\n\u001b[0m\u001b[1;32m      4\u001b[0m \u001b[0mburger\u001b[0m\u001b[0;34m=\u001b[0m\u001b[0mint\u001b[0m\u001b[0;34m(\u001b[0m\u001b[0minput\u001b[0m\u001b[0;34m(\u001b[0m\u001b[0;34m\"price of burger : \"\u001b[0m\u001b[0;34m)\u001b[0m\u001b[0;34m)\u001b[0m\u001b[0;34m\u001b[0m\u001b[0;34m\u001b[0m\u001b[0m\n\u001b[1;32m      5\u001b[0m \u001b[0mcoke\u001b[0m \u001b[0;34m=\u001b[0m \u001b[0mint\u001b[0m\u001b[0;34m(\u001b[0m\u001b[0minput\u001b[0m\u001b[0;34m(\u001b[0m\u001b[0;34m\"price of coke : \"\u001b[0m\u001b[0;34m)\u001b[0m\u001b[0;34m)\u001b[0m\u001b[0;34m\u001b[0m\u001b[0;34m\u001b[0m\u001b[0m\n",
            "\u001b[0;32m/usr/local/lib/python3.11/dist-packages/ipykernel/kernelbase.py\u001b[0m in \u001b[0;36mraw_input\u001b[0;34m(self, prompt)\u001b[0m\n\u001b[1;32m   1175\u001b[0m                 \u001b[0;34m\"raw_input was called, but this frontend does not support input requests.\"\u001b[0m\u001b[0;34m\u001b[0m\u001b[0;34m\u001b[0m\u001b[0m\n\u001b[1;32m   1176\u001b[0m             )\n\u001b[0;32m-> 1177\u001b[0;31m         return self._input_request(\n\u001b[0m\u001b[1;32m   1178\u001b[0m             \u001b[0mstr\u001b[0m\u001b[0;34m(\u001b[0m\u001b[0mprompt\u001b[0m\u001b[0;34m)\u001b[0m\u001b[0;34m,\u001b[0m\u001b[0;34m\u001b[0m\u001b[0;34m\u001b[0m\u001b[0m\n\u001b[1;32m   1179\u001b[0m             \u001b[0mself\u001b[0m\u001b[0;34m.\u001b[0m\u001b[0m_parent_ident\u001b[0m\u001b[0;34m[\u001b[0m\u001b[0;34m\"shell\"\u001b[0m\u001b[0;34m]\u001b[0m\u001b[0;34m,\u001b[0m\u001b[0;34m\u001b[0m\u001b[0;34m\u001b[0m\u001b[0m\n",
            "\u001b[0;32m/usr/local/lib/python3.11/dist-packages/ipykernel/kernelbase.py\u001b[0m in \u001b[0;36m_input_request\u001b[0;34m(self, prompt, ident, parent, password)\u001b[0m\n\u001b[1;32m   1217\u001b[0m             \u001b[0;32mexcept\u001b[0m \u001b[0mKeyboardInterrupt\u001b[0m\u001b[0;34m:\u001b[0m\u001b[0;34m\u001b[0m\u001b[0;34m\u001b[0m\u001b[0m\n\u001b[1;32m   1218\u001b[0m                 \u001b[0;31m# re-raise KeyboardInterrupt, to truncate traceback\u001b[0m\u001b[0;34m\u001b[0m\u001b[0;34m\u001b[0m\u001b[0m\n\u001b[0;32m-> 1219\u001b[0;31m                 \u001b[0;32mraise\u001b[0m \u001b[0mKeyboardInterrupt\u001b[0m\u001b[0;34m(\u001b[0m\u001b[0;34m\"Interrupted by user\"\u001b[0m\u001b[0;34m)\u001b[0m \u001b[0;32mfrom\u001b[0m \u001b[0;32mNone\u001b[0m\u001b[0;34m\u001b[0m\u001b[0;34m\u001b[0m\u001b[0m\n\u001b[0m\u001b[1;32m   1220\u001b[0m             \u001b[0;32mexcept\u001b[0m \u001b[0mException\u001b[0m\u001b[0;34m:\u001b[0m\u001b[0;34m\u001b[0m\u001b[0;34m\u001b[0m\u001b[0m\n\u001b[1;32m   1221\u001b[0m                 \u001b[0mself\u001b[0m\u001b[0;34m.\u001b[0m\u001b[0mlog\u001b[0m\u001b[0;34m.\u001b[0m\u001b[0mwarning\u001b[0m\u001b[0;34m(\u001b[0m\u001b[0;34m\"Invalid Message:\"\u001b[0m\u001b[0;34m,\u001b[0m \u001b[0mexc_info\u001b[0m\u001b[0;34m=\u001b[0m\u001b[0;32mTrue\u001b[0m\u001b[0;34m)\u001b[0m\u001b[0;34m\u001b[0m\u001b[0;34m\u001b[0m\u001b[0m\n",
            "\u001b[0;31mKeyboardInterrupt\u001b[0m: Interrupted by user"
          ]
        }
      ]
    },
    {
      "cell_type": "code",
      "source": [
        "pizza = int(input(\"enter the price of pizza : \"))\n",
        "print(\"discount given on pizza : \",pizza/100*10)\n",
        "print(\" \")\n",
        "\n",
        "burger = int(input(\"enter the price of burger : \"))\n",
        "print(\"discount given on burger : \",burger/100*10)\n",
        "print(\" \")\n",
        "\n",
        "coke = int(input(\"price of coke : \"))\n",
        "print(\"discount given on coke : \",coke/100*10)\n",
        "print(\" \")\n",
        "\n",
        "coffee=int(input(\"price of coffee :\"))\n",
        "print(\"discount given on coffee : \",coffee/100*10)\n",
        "print(\" \")\n",
        "\n",
        "total = pizza/100*10 + burger/100*10 + coke/100*10 + coffee/100*10\n",
        "total1 = pizza + burger + coke + coffee\n",
        "\n",
        "print(\"Total of discount given on each item : \",total)\n",
        "print(\"Total bill of items : \",total1 - total)"
      ],
      "metadata": {
        "colab": {
          "base_uri": "https://localhost:8080/"
        },
        "id": "mw9HwGL4C89w",
        "outputId": "d6e32443-f8f1-443c-c0ec-0085f3f29784"
      },
      "execution_count": 33,
      "outputs": [
        {
          "output_type": "stream",
          "name": "stdout",
          "text": [
            "enter the price of pizza : 150\n",
            "discount given on pizza :  15.0\n",
            " \n",
            "enter the price of burger : 80\n",
            "discount given on burger :  8.0\n",
            " \n",
            "price of coke : 50\n",
            "discount given on coke :  5.0\n",
            " \n",
            "price of coffee :120\n",
            "discount given on coffee :  12.0\n",
            " \n",
            "Total of discount given on each item :  40.0\n",
            "Total bill of items :  360.0\n"
          ]
        }
      ]
    }
  ]
}