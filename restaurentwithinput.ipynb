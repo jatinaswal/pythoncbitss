{
  "nbformat": 4,
  "nbformat_minor": 0,
  "metadata": {
    "colab": {
      "provenance": [],
      "authorship_tag": "ABX9TyNA8JMloyiK6Ov4iUmNl0fV",
      "include_colab_link": true
    },
    "kernelspec": {
      "name": "python3",
      "display_name": "Python 3"
    },
    "language_info": {
      "name": "python"
    }
  },
  "cells": [
    {
      "cell_type": "markdown",
      "metadata": {
        "id": "view-in-github",
        "colab_type": "text"
      },
      "source": [
        "<a href=\"https://colab.research.google.com/github/jatinaswal/pythoncbitss/blob/main/restaurentwithinput.ipynb\" target=\"_parent\"><img src=\"https://colab.research.google.com/assets/colab-badge.svg\" alt=\"Open In Colab\"/></a>"
      ]
    },
    {
      "cell_type": "code",
      "execution_count": 10,
      "metadata": {
        "colab": {
          "base_uri": "https://localhost:8080/"
        },
        "id": "nWaWvmKYyKPx",
        "outputId": "8d7e9ff1-39ca-4c3a-a7af-807ed50afdde"
      },
      "outputs": [
        {
          "output_type": "stream",
          "name": "stdout",
          "text": [
            "enter your first number : 10\n",
            "enter your second number : 20\n",
            "total of 10.0 and 20.0 is 2 30.0\n"
          ]
        }
      ],
      "source": [
        "first_num = float(input(\"enter your first number : \"))\n",
        "second_num = float(input(\"enter your second number : \"))\n",
        "total = first_num + second_num\n",
        "print(f\"total of {first_num} and {second_num} is \",total)\n",
        "\n"
      ]
    },
    {
      "cell_type": "code",
      "source": [
        "first_num = float(input(\"enter your first number : \"))\n",
        "second_num = float(input(\"enter your second number : \"))\n",
        "total = first_num * second_num\n",
        "print(total)"
      ],
      "metadata": {
        "colab": {
          "base_uri": "https://localhost:8080/"
        },
        "id": "MLzZJX4vywfE",
        "outputId": "2aa346e5-41a8-4925-8928-0d939bc9db7f"
      },
      "execution_count": 2,
      "outputs": [
        {
          "output_type": "stream",
          "name": "stdout",
          "text": [
            "enter your first number : 4\n",
            "enter your second number : 5\n",
            "20.0\n"
          ]
        }
      ]
    },
    {
      "cell_type": "code",
      "source": [
        "first_num = float(input(\"enter your first number : \"))\n",
        "second_num = float(input(\"enter your second number : \"))\n",
        "total = first_num - second_num\n",
        "print(total)"
      ],
      "metadata": {
        "colab": {
          "base_uri": "https://localhost:8080/"
        },
        "id": "uVjmBgVtzJAB",
        "outputId": "9a95e30f-931f-45a5-ffa0-49f8627cad42"
      },
      "execution_count": 3,
      "outputs": [
        {
          "output_type": "stream",
          "name": "stdout",
          "text": [
            "enter your first number : 10.1\n",
            "enter your second number : 10\n",
            "0.09999999999999964\n"
          ]
        }
      ]
    },
    {
      "cell_type": "code",
      "source": [
        "first_num = float(input(\"enter your first number : \"))\n",
        "second_num = float(input(\"enter your second number : \"))\n",
        "total = first_num / second_num\n",
        "print(total)"
      ],
      "metadata": {
        "colab": {
          "base_uri": "https://localhost:8080/"
        },
        "id": "Sy2wBqKJzN_0",
        "outputId": "d3d010c0-fe61-407d-fb1e-359d64064ccf"
      },
      "execution_count": 4,
      "outputs": [
        {
          "output_type": "stream",
          "name": "stdout",
          "text": [
            "enter your first number : 10\n",
            "enter your second number : 2\n",
            "5.0\n"
          ]
        }
      ]
    },
    {
      "cell_type": "code",
      "source": [
        "print(\"      Pahadi's Restaurent\")\n",
        "print(\"------------------------------\")\n",
        "pizza= int(input(\"price of pizza : \"))\n",
        "burger=int(input(\"price of burger : \"))\n",
        "coke = int(input(\"price of coke : \"))\n",
        "Sandwitch=int(input(\"price of Sandwitch : \"))\n",
        "coffee=int(input(\"price of coffee :\"))\n",
        "total = pizza + burger + coke + coffee + Sandwitch\n",
        "print(\"---------------------------------------------\")\n",
        "print(\"Total price of items is : \",total)\n",
        "print(\"Discount given to customer : \",total/100*10)\n",
        "print(\"total bill after discount : \", total - total/100*10)"
      ],
      "metadata": {
        "colab": {
          "base_uri": "https://localhost:8080/"
        },
        "id": "dZemk23J6rrE",
        "outputId": "0efce70f-0ca1-4dc6-c1e4-a1ea36e26b7a"
      },
      "execution_count": 39,
      "outputs": [
        {
          "output_type": "stream",
          "name": "stdout",
          "text": [
            "      Pahadi's Restaurent\n",
            "------------------------------\n",
            "price of pizza : 150\n",
            "price of burger : 80\n",
            "price of coke : 50\n",
            "price of Sandwitch : 70\n",
            "price of coffee :120\n",
            "---------------------------------------------\n",
            "Total price of items is :  470\n",
            "Discount given to customer :  47.0\n",
            "total bill after discount :  423.0\n"
          ]
        }
      ]
    }
  ]
}