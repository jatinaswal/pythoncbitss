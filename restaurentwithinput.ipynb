{
  "nbformat": 4,
  "nbformat_minor": 0,
  "metadata": {
    "colab": {
      "provenance": [],
      "authorship_tag": "ABX9TyOjdP+uxTtbCLfXQ1iDA8KP",
      "include_colab_link": true
    },
    "kernelspec": {
      "name": "python3",
      "display_name": "Python 3"
    },
    "language_info": {
      "name": "python"
    }
  },
  "cells": [
    {
      "cell_type": "markdown",
      "metadata": {
        "id": "view-in-github",
        "colab_type": "text"
      },
      "source": [
        "<a href=\"https://colab.research.google.com/github/jatinaswal/pythoncbitss/blob/main/restaurentwithinput.ipynb\" target=\"_parent\"><img src=\"https://colab.research.google.com/assets/colab-badge.svg\" alt=\"Open In Colab\"/></a>"
      ]
    },
    {
      "cell_type": "code",
      "execution_count": null,
      "metadata": {
        "colab": {
          "base_uri": "https://localhost:8080/"
        },
        "id": "nWaWvmKYyKPx",
        "outputId": "8d7e9ff1-39ca-4c3a-a7af-807ed50afdde"
      },
      "outputs": [
        {
          "output_type": "stream",
          "name": "stdout",
          "text": [
            "enter your first number : 10\n",
            "enter your second number : 20\n",
            "total of 10.0 and 20.0 is 2 30.0\n"
          ]
        }
      ],
      "source": [
        "first_num = float(input(\"enter your first number : \"))\n",
        "second_num = float(input(\"enter your second number : \"))\n",
        "total = first_num + second_num\n",
        "print(f\"total of {first_num} and {second_num} is \",total)\n",
        "\n"
      ]
    },
    {
      "cell_type": "code",
      "source": [
        "first_num = float(input(\"enter your first number : \"))\n",
        "second_num = float(input(\"enter your second number : \"))\n",
        "total = first_num * second_num\n",
        "print(total)"
      ],
      "metadata": {
        "colab": {
          "base_uri": "https://localhost:8080/"
        },
        "id": "MLzZJX4vywfE",
        "outputId": "2aa346e5-41a8-4925-8928-0d939bc9db7f"
      },
      "execution_count": null,
      "outputs": [
        {
          "output_type": "stream",
          "name": "stdout",
          "text": [
            "enter your first number : 4\n",
            "enter your second number : 5\n",
            "20.0\n"
          ]
        }
      ]
    },
    {
      "cell_type": "code",
      "source": [
        "first_num = float(input(\"enter your first number : \"))\n",
        "second_num = float(input(\"enter your second number : \"))\n",
        "total = first_num - second_num\n",
        "print(total)"
      ],
      "metadata": {
        "colab": {
          "base_uri": "https://localhost:8080/"
        },
        "id": "uVjmBgVtzJAB",
        "outputId": "9a95e30f-931f-45a5-ffa0-49f8627cad42"
      },
      "execution_count": null,
      "outputs": [
        {
          "output_type": "stream",
          "name": "stdout",
          "text": [
            "enter your first number : 10.1\n",
            "enter your second number : 10\n",
            "0.09999999999999964\n"
          ]
        }
      ]
    },
    {
      "cell_type": "code",
      "source": [
        "first_num = float(input(\"enter your first number : \"))\n",
        "second_num = float(input(\"enter your second number : \"))\n",
        "total = first_num / second_num\n",
        "print(total)"
      ],
      "metadata": {
        "colab": {
          "base_uri": "https://localhost:8080/"
        },
        "id": "Sy2wBqKJzN_0",
        "outputId": "d3d010c0-fe61-407d-fb1e-359d64064ccf"
      },
      "execution_count": null,
      "outputs": [
        {
          "output_type": "stream",
          "name": "stdout",
          "text": [
            "enter your first number : 10\n",
            "enter your second number : 2\n",
            "5.0\n"
          ]
        }
      ]
    },
    {
      "cell_type": "code",
      "source": [
        "print(\"      Pahadi's Restaurent\")\n",
        "print(\"------------------------------\")\n",
        "pizza= int(input(\"price of pizza : \"))\n",
        "burger=int(input(\"price of burger : \"))\n",
        "coke = int(input(\"price of coke : \"))\n",
        "Sandwich=int(input(\"price of Sandwich : \"))\n",
        "coffee=int(input(\"price of coffee :\"))\n",
        "total = pizza + burger + coke + coffee + Sandwich\n",
        "print(\"------------------------------\")\n",
        "print(\"Total price of items is : \",total)\n",
        "print(\"Discount given to customer : \",total/100*10)\n",
        "print(\"total bill after discount : \", total - total/100*10)"
      ],
      "metadata": {
        "colab": {
          "base_uri": "https://localhost:8080/"
        },
        "id": "dZemk23J6rrE",
        "outputId": "615d37e2-e30e-4bac-810f-f27c531c50d4"
      },
      "execution_count": null,
      "outputs": [
        {
          "output_type": "stream",
          "name": "stdout",
          "text": [
            "      Pahadi's Restaurent\n",
            "------------------------------\n",
            "price of pizza : 150\n",
            "price of burger : 80\n",
            "price of coke : 50\n",
            "price of Sandwich : 70\n",
            "price of coffee :120\n",
            "------------------------------\n",
            "Total price of items is :  470\n",
            "Discount given to customer :  47.0\n",
            "total bill after discount :  423.0\n"
          ]
        }
      ]
    },
    {
      "cell_type": "code",
      "source": [
        "print(\"      Pahadi's Restaurent\")\n",
        "print(\"------------------------------\")\n",
        "pizza = int(input(\"Enter the price of pizza : \"))\n",
        "\n",
        "burger = int(input(\"Enter the price of burger : \"))\n",
        "\n",
        "coke = int(input(\"Enter the price of coke : \"))\n",
        "\n",
        "coffee=int(input(\"Enter the price of coffee :\"))\n",
        "print(\" \")\n",
        "\n",
        "print(\"Discount given on pizza : \",pizza/100*10)\n",
        "print(\"Discount given on burger : \",burger/100*10)\n",
        "print(\"Discount given on coke : \",coke/100*10)\n",
        "print(\"Discount given on coffee : \",coffee/100*10)\n",
        "print(\" \")\n",
        "print(\"--------------------------------------------\")\n",
        "\n",
        "total = pizza + burger + coke + coffee\n",
        "total1 = pizza/100*10 + burger/100*10 + coke/100*10 + coffee/100*10\n",
        "total2 = pizza + burger + coke + coffee\n",
        "\n",
        "print(\"Total bill : \",total)\n",
        "print(\"Total of discount given on each item : \",total1)\n",
        "print(\"Total bill of items after discount : \",  total2 - total1)"
      ],
      "metadata": {
        "colab": {
          "base_uri": "https://localhost:8080/"
        },
        "id": "cf40XND_R7-E",
        "outputId": "908231c0-74bd-406d-842e-7c03628a95d9"
      },
      "execution_count": 8,
      "outputs": [
        {
          "output_type": "stream",
          "name": "stdout",
          "text": [
            "      Pahadi's Restaurent\n",
            "------------------------------\n",
            "Enter the price of pizza : 150\n",
            "Enter the price of burger : 80\n",
            "Enter the price of coke : 50\n",
            "Enter the price of coffee :120\n",
            " \n",
            "Discount given on pizza :  15.0\n",
            "Discount given on burger :  8.0\n",
            "Discount given on coke :  5.0\n",
            "Discount given on coffee :  12.0\n",
            " \n",
            "--------------------------------------------\n",
            "Total bill :  400\n",
            "Total of discount given on each item :  40.0\n",
            "Total bill of items after discount :  360.0\n"
          ]
        }
      ]
    }
  ]
}